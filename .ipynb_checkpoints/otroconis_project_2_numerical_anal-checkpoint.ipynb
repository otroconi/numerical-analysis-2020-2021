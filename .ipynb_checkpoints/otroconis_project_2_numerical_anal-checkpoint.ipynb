{
 "cells": [
  {
   "cell_type": "code",
   "execution_count": 2,
   "metadata": {},
   "outputs": [],
   "source": [
    "import numpy as np\n",
    "import matplotlib.pyplot as plt\n",
    "import scipy\n",
    "from scipy.interpolate import lagrange\n",
    "from scipy.misc import derivative\n",
    "from scipy import integrate\n"
   ]
  },
  {
   "cell_type": "code",
   "execution_count": 5,
   "metadata": {},
   "outputs": [
    {
     "name": "stdout",
     "output_type": "stream",
     "text": [
      "Populating the interactive namespace from numpy and matplotlib\n"
     ]
    }
   ],
   "source": [
    "%pylab inline\n",
    "\n",
    "def compute_one_dimensional_matrices(n):\n",
    "#chev points and Gauss quadrature formula\n",
    "    X = np.polynomial.chebyshev.chebpts2(n)\n",
    "    q,w = np.polynomial.legendre.leggauss(n)\n",
    "    \n",
    "    nu = []\n",
    "    nu_prime = []\n",
    "#Compute B=nu_i(q_alpha) and D=nu_prime_i(q_alpha)   \n",
    "    for i in range(n):\n",
    "        e_i = np.zeros((n,))\n",
    "        e_i[i]= 1\n",
    "        nu.append(lagrange(X,e_i))\n",
    "        nu_prime.append(np.polyder(nu[i]))\n",
    "#Lagrange basis     \n",
    "    B = np.zeros((n,n))\n",
    "    D = np.zeros((n,n))\n",
    "    \n",
    "    for i in range(0,n):\n",
    "        B[i,:] = nu[i](q)\n",
    "        D[i,:] = nu_prime[i](q)\n",
    "    \n",
    "    K = np.einsum('iq,q,jq',D,w,D)\n",
    "    M = np.einsum('iq,q,jq',B,w,B)\n",
    "    A = K + M\n",
    "    \n",
    "    x = np.linspace(-1,1,501)\n",
    "    return K, M, A\n",
    "    "
   ]
  },
  {
   "cell_type": "code",
   "execution_count": 6,
   "metadata": {},
   "outputs": [],
   "source": [
    "n = 6\n",
    "K, M, A = compute_one_dimensional_matrices(6)"
   ]
  },
  {
   "cell_type": "code",
   "execution_count": 9,
   "metadata": {},
   "outputs": [],
   "source": [
    "def exact_one_d(x):\n",
    "    return np.cos(np.pi * x)\n",
    "    \n",
    "def rhs_one_d(x):\n",
    "    return ( 1 + np.pi**2 ) * np.cos(np.pi * x)\n",
    "\n",
    "def compute_error_one_d(n, exact, rhs):\n",
    "     #Compute A using the function defined in exercise 1 to compute A and then u\n",
    "    K, M, A = compute_one_dimensional_matrices(n)\n",
    "    \n",
    "    #Compute q,w to compute B and f later\n",
    "    q,w = np.polynomial.legendre.leggauss(n)\n",
    "    #Compute Chebyshev points\n",
    "    X = np.polynomial.chebyshev.chebpts2(n) \n",
    "    \n",
    "      #Compute B to compute f: steps similar to exercise 1\n",
    "    nu = []\n",
    "    #Compute B=nu_i(q_alpha) \n",
    "    for i in range(n):\n",
    "        e_i = np.zeros((n,))\n",
    "        e_i[i]= 1\n",
    "        nu.append(lagrange(X,e_i))\n",
    "        \n",
    "    #Lagrange basis     \n",
    "    B = np.zeros((n,n))\n",
    "                                               \n",
    "    for i in range(0,n):\n",
    "        B[i,:] = nu[i](q)\n",
    "    \n",
    "    f = np.einsum('iq,q,q',B,w,rhs(q))   \n",
    "   \n",
    "    u = np.linalg.solve(A,f)\n",
    "    \n",
    "      #Compute U_approx\n",
    "    U_approx = lambda x: sum([nu[i](x)*u[i] for i in range(n)])\n",
    "    \n",
    "    #Compute error\n",
    "    error = np.sqrt(scipy.integrate.quad(lambda x: (exact_one_d(x) - U_approx(x))**2, -1, 1)[0])\n",
    "    return error\n"
   ]
  },
  {
   "cell_type": "code",
   "execution_count": 10,
   "metadata": {},
   "outputs": [
    {
     "data": {
      "text/plain": [
       "[<matplotlib.lines.Line2D at 0x7f9a5a19e040>]"
      ]
     },
     "execution_count": 10,
     "metadata": {},
     "output_type": "execute_result"
    },
    {
     "data": {
      "image/png": "[encoded data removed]",
      "text/plain": [
       "<Figure size 432x288 with 1 Axes>"
      ]
     },
     "metadata": {
      "needs_background": "light"
     },
     "output_type": "display_data"
    }
   ],
   "source": [
    "error = []\n",
    "all_n = range(10,20)\n",
    "for n in all_n:\n",
    "    error.append(compute_error_one_d(n, exact_one_d, rhs_one_d))\n",
    "\n",
    "                                     \n",
    "loglog(all_n, error, 'o-')"
   ]
  },
  {
   "cell_type": "code",
   "execution_count": 11,
   "metadata": {},
   "outputs": [],
   "source": [
    "def compute_two_dimensional_matrices(n):\n",
    "    \n",
    "    K, M, A = compute_one_dimensional_matrices(n)\n",
    "    \n",
    "    KM = np.einsum('ik, jl -> ijkl', K, M)\n",
    "    MK = np.einsum('ik, jl -> ijkl', M, K)\n",
    "    KK = KM + MK\n",
    "    MM = np.einsum('ik, jl -> ijkl', M, M)\n",
    "    AA = KK + MM\n",
    "    \n",
    "    return AA.reshape((n**2, n**2))"
   ]
  },
  {
   "cell_type": "code",
   "execution_count": null,
   "metadata": {},
   "outputs": [],
   "source": [
    "def exact_two_d(xo,x1):\n",
    "    return ( np.cos(np.pi * xo) * np.cos(np.pi * x1) )\n",
    "    \n",
    "def rhs_two_d(xo,x1):\n",
    "    return ( 1 + 2*(np.pi**2) ) * np.cos(np.pi * xo) * np.cos(np.pi * x1)\n",
    "\n",
    "def compute_error_two_d(n, exact, rhs):\n",
    "         \n",
    "    AA = compute_two_dimensional_matrices(n)\n",
    "    \n",
    "    #Compute q,w to compute B and f later\n",
    "    q,w = np.polynomial.legendre.leggauss(n)\n",
    "    #Compute Chebyshev points\n",
    "    X = np.polynomial.chebyshev.chebpts2(n)\n",
    "                     \n",
    " #Compute B to compute f: steps similar to exercise 1\n",
    "    nu = []\n",
    "    #Compute B=nu_i(q_alpha) \n",
    "    for i in range(n):\n",
    "        e_i = np.zeros((n,))\n",
    "        e_i[i]= 1\n",
    "        nu.append(lagrange(X,e_i))    \n",
    "        \n",
    "         #Lagrange basis     \n",
    "    B = np.zeros((n,n))                                        \n",
    "    for i in range(0,n):\n",
    "        B[i,:] = nu[i](q)\n",
    "        \n",
    "    RHS_f = np.zeros((n,n))              \n",
    "    for i in range(0, n):\n",
    "        for j in range(0, n):\n",
    "            RHS_f[i,j] = rhs_two_d(q[i],q[j]) \n",
    "                 \n",
    "                  \n",
    "    f = np.einsum('iq,q,qp,p,jp->ij',B,w,RHS_f,w,B)  \n",
    "    \n",
    "    f = f.reshape((n**2,))\n",
    "    \n",
    "    u = np.linalg.solve(AA,f)\n",
    "    \n",
    "    u = u.reshape((n,n))\n",
    "    \n",
    "    U_approx = lambda x1,xo: sum( [ nu[j](x1)*nu[i](xo) * u[i,j] for i in range(0,n) for j in range(0,n) ] )\n",
    "    \n",
    "    error = np.sqrt( scipy.integrate.dblquad(lambda x1,xo: (U_approx(x1,xo) - exact(x1,xo))**2, -1, 1, -1, 1 )[0] )\n",
    "    \n",
    "    return error          "
   ]
  },
  {
   "cell_type": "code",
   "execution_count": null,
   "metadata": {},
   "outputs": [],
   "source": []
  },
  {
   "cell_type": "code",
   "execution_count": null,
   "metadata": {},
   "outputs": [],
   "source": []
  }
 ],
 "metadata": {
  "kernelspec": {
   "display_name": "Python 3",
   "language": "python",
   "name": "python3"
  },
  "language_info": {
   "codemirror_mode": {
    "name": "ipython",
    "version": 3
   },
   "file_extension": ".py",
   "mimetype": "text/x-python",
   "name": "python",
   "nbconvert_exporter": "python",
   "pygments_lexer": "ipython3",
   "version": "3.8.5"
  }
 },
 "nbformat": 4,
 "nbformat_minor": 4
}
