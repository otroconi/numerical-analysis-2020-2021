{
 "cells": [
  {
   "cell_type": "code",
   "execution_count": 2,
   "metadata": {},
   "outputs": [],
   "source": [
    "import numpy as np\n",
    "import matplotlib.pyplot as plt\n",
    "import scipy\n",
    "from scipy.interpolate import lagrange\n",
    "from scipy.misc import derivative\n",
    "from scipy import integrate\n"
   ]
  },
  {
   "cell_type": "code",
   "execution_count": 5,
   "metadata": {},
   "outputs": [
    {
     "name": "stdout",
     "output_type": "stream",
     "text": [
      "Populating the interactive namespace from numpy and matplotlib\n"
     ]
    }
   ],
   "source": [
    "%pylab inline\n",
    "\n",
    "def compute_one_dimensional_matrices(n):\n",
    "#chev points and Gauss quadrature formula\n",
    "    X = np.polynomial.chebyshev.chebpts2(n)\n",
    "    q,w = np.polynomial.legendre.leggauss(n)\n",
    "    \n",
    "    nu = []\n",
    "    nu_prime = []\n",
    "#Compute B=nu_i(q_alpha) and D=nu_prime_i(q_alpha)   \n",
    "    for i in range(n):\n",
    "        e_i = np.zeros((n,))\n",
    "        e_i[i]= 1\n",
    "        nu.append(lagrange(X,e_i))\n",
    "        nu_prime.append(np.polyder(nu[i]))\n",
    "#Lagrange basis     \n",
    "    B = np.zeros((n,n))\n",
    "    D = np.zeros((n,n))\n",
    "    \n",
    "    for i in range(0,n):\n",
    "        B[i,:] = nu[i](q)\n",
    "        D[i,:] = nu_prime[i](q)\n",
    "    \n",
    "    K = np.einsum('iq,q,jq',D,w,D)\n",
    "    M = np.einsum('iq,q,jq',B,w,B)\n",
    "    A = K + M\n",
    "    \n",
    "    x = np.linspace(-1,1,501)\n",
    "    return K, M, A\n",
    "    "
   ]
  },
  {
   "cell_type": "code",
   "execution_count": 6,
   "metadata": {},
   "outputs": [],
   "source": [
    "n = 6\n",
    "K, M, A = compute_one_dimensional_matrices(6)"
   ]
  },
  {
   "cell_type": "code",
   "execution_count": 7,
   "metadata": {},
   "outputs": [],
   "source": [
    "def exact_one_d(x):\n",
    "    return np.cos(np.pi * x)\n",
    "    \n",
    "def rhs_one_d(x):\n",
    "    return ( 1 + np.pi**2 ) * np.cos(np.pi * x)\n",
    "\n",
    "def compute_error_one_d(n, exact, rhs):\n",
    "     #Compute A using the function defined in exercise 1 to compute A and then u\n",
    "    K, M, A = compute_one_dimensional_matrices(n)\n",
    "    \n",
    "    #Compute q,w to compute B and f later\n",
    "    q,w = np.polynomial.legendre.leggauss(n)\n",
    "    #Compute Chebyshev points\n",
    "    X = np.polynomial.chebyshev.chebpts2(n) "
   ]
  },
  {
   "cell_type": "code",
   "execution_count": null,
   "metadata": {},
   "outputs": [],
   "source": []
  }
 ],
 "metadata": {
  "kernelspec": {
   "display_name": "Python 3",
   "language": "python",
   "name": "python3"
  },
  "language_info": {
   "codemirror_mode": {
    "name": "ipython",
    "version": 3
   },
   "file_extension": ".py",
   "mimetype": "text/x-python",
   "name": "python",
   "nbconvert_exporter": "python",
   "pygments_lexer": "ipython3",
   "version": "3.8.5"
  }
 },
 "nbformat": 4,
 "nbformat_minor": 4
}
